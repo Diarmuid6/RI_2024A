{
 "cells": [
  {
   "cell_type": "markdown",
   "id": "b8c54b0e",
   "metadata": {},
   "source": [
    "# Búsqueda booleana en documentos"
   ]
  },
  {
   "cell_type": "markdown",
   "id": "c25d9ae7",
   "metadata": {},
   "source": [
    "\n",
    "## Objetivo\n",
    "Ampliar la funcionalidad de búsqueda simple de términos para incluir funciones de búsqueda booleana. Esto permitirá a los usuarios realizar consultas más complejas combinando varios términos de búsqueda mediante operadores booleanos.\n",
    "\n",
    "## Descripción del problema\n",
    "Debe mejorar el motor de búsqueda existente del ejercicio anterior para que admita operadores booleanos: AND, OR y NOT. Esto permitirá recuperar documentos basándose en las relaciones lógicas entre múltiples términos.\n",
    "\n",
    "Traducción realizada con la versión gratuita del traductor DeepL.com"
   ]
  },
  {
   "cell_type": "markdown",
   "id": "42bdfb69",
   "metadata": {},
   "source": [
    "## Requisitos\n",
    "### Paso 1: Actualizar la preparación de datos \n",
    "Asegúrese de que los documentos siguen cargados y preprocesados desde la tarea anterior. Los datos deben estar limpios y listos para una consulta avanzada."
   ]
  },
  {
   "cell_type": "code",
   "execution_count": 1,
   "id": "3923ff0d",
   "metadata": {},
   "outputs": [],
   "source": [
    "import os\n",
    "from pathlib import Path\n",
    "import re\n",
    "#from collections import defaultdict\n",
    "from collections import Counter\n",
    "import numpy as np"
   ]
  },
  {
   "cell_type": "code",
   "execution_count": 2,
   "id": "50362e1c",
   "metadata": {},
   "outputs": [],
   "source": [
    "def buscar_titulos(directorio):\n",
    "    archivos_titulos = []\n",
    "    # Iterar sobre todos los archivos en el directorio\n",
    "    for archivo in directorio.glob('*.txt'):\n",
    "            # Abrir el archivo y buscar la palabra\n",
    "            titulo=archivo.stem\n",
    "            archivos_titulos.append(str(titulo))\n",
    "    return archivos_titulos"
   ]
  },
  {
   "cell_type": "code",
   "execution_count": 3,
   "id": "65c322b1",
   "metadata": {},
   "outputs": [],
   "source": [
    "def diccionario_libros(directorio):\n",
    "    palabras_individuales = []\n",
    "    for archivo in directorio.glob('*.txt'):\n",
    "            with open((archivo), 'r', encoding='utf-8') as file:   \n",
    "             contenido = file.read()\n",
    "            # Limpiar el contenido: eliminar caracteres especiales y dividir en palabras\n",
    "             palabras = re.findall(r'\\b[A-Za-z0-9]+\\b', contenido.lower())\n",
    "             palabras_individuales.extend(palabras)      \n",
    "    return palabras_individuales"
   ]
  },
  {
   "cell_type": "code",
   "execution_count": 4,
   "id": "c4de1393",
   "metadata": {},
   "outputs": [],
   "source": [
    "directorio_a_buscar = Path(\"data\")  # Ruta de la carpeta \"data\"\n",
    "titulos_encontrados = buscar_titulos(directorio_a_buscar)\n"
   ]
  },
  {
   "cell_type": "code",
   "execution_count": 5,
   "id": "57f13356",
   "metadata": {},
   "outputs": [],
   "source": [
    "palabras_diccionario=diccionario_libros(directorio_a_buscar)\n",
    "palabras_diccionario= set(palabras_diccionario)\n",
    "palabras_ordenadas = sorted(palabras_diccionario)"
   ]
  },
  {
   "cell_type": "markdown",
   "id": "5f2d6e1d",
   "metadata": {},
   "source": [
    "### Paso 2: Crear un índice invertido\n",
    "Cree un índice invertido a partir de los documentos. Este índice asigna cada palabra al conjunto de ID de documentos en los que aparece dicha palabra. Esto facilita la búsqueda de palabras en el proceso de búsqueda."
   ]
  },
  {
   "cell_type": "code",
   "execution_count": 6,
   "id": "08786433",
   "metadata": {},
   "outputs": [],
   "source": [
    "filas=len(palabras_diccionario)\n",
    "columnas=len(titulos_encontrados)\n",
    "matriz = np.zeros((filas, columnas), dtype=int)\n",
    "#print(matriz)"
   ]
  },
  {
   "cell_type": "code",
   "execution_count": 7,
   "id": "a562904a",
   "metadata": {},
   "outputs": [],
   "source": [
    "\n",
    "def palabras_por_libro(directorio,libro_nombre):\n",
    "    palabras_individuales1 = []\n",
    "    archivo = directorio / (libro_nombre + '.txt')\n",
    "    # Verificar si el archivo existe\n",
    "    if archivo.exists():\n",
    "        with open(archivo, 'r', encoding='utf-8') as file:\n",
    "            contenido = file.read()\n",
    "            # Limpiar el contenido: eliminar caracteres especiales y dividir en palabras\n",
    "            palabras = re.findall(r'\\b[A-Za-z0-9]+\\b', contenido.lower())\n",
    "            palabras_individuales1.extend(palabras) \n",
    "            palabras_individuales1 = set(palabras_individuales1)\n",
    "            return palabras_individuales1"
   ]
  },
  {
   "cell_type": "code",
   "execution_count": 8,
   "id": "09ad899e",
   "metadata": {},
   "outputs": [],
   "source": [
    " for j, titulo in enumerate(titulos_encontrados):\n",
    "    palabras_por_libro_actual= palabras_por_libro(directorio_a_buscar,titulo)\n",
    "    for i, palabra in enumerate(palabras_ordenadas):\n",
    "        if palabra in palabras_por_libro_actual:\n",
    "            matriz[i, j] = 1"
   ]
  },
  {
   "cell_type": "code",
   "execution_count": 9,
   "id": "07e4fd28",
   "metadata": {},
   "outputs": [
    {
     "name": "stdout",
     "output_type": "stream",
     "text": [
      "[[1 0 1 ... 0 0 0]\n",
      " [1 0 0 ... 0 0 0]\n",
      " [1 1 1 ... 1 1 1]\n",
      " ...\n",
      " [0 0 0 ... 0 0 0]\n",
      " [0 0 0 ... 0 0 0]\n",
      " [0 0 0 ... 0 0 0]]\n"
     ]
    }
   ],
   "source": [
    "print(matriz)"
   ]
  },
  {
   "cell_type": "code",
   "execution_count": 10,
   "id": "5c0e1f26",
   "metadata": {},
   "outputs": [],
   "source": [
    "diccionario_bi= dict(enumerate(palabras_ordenadas))\n",
    "titulos_bi= dict(enumerate(titulos_encontrados))"
   ]
  },
  {
   "cell_type": "markdown",
   "id": "7af35cdb",
   "metadata": {},
   "source": [
    "### Paso 3: Implementación de la búsqueda booleana\n",
    "Mejore la consulta de entrada: Modifique la función para que acepte consultas complejas que puedan incluir los operadores booleanos AND, OR y NOT.\n",
    "Implemente la lógica booleana:\n",
    "AND: El documento debe contener todos los términos. Por ejemplo, python AND programming debe devolver documentos que contengan tanto \"python\" como \"programming\".\n",
    "OR: El documento puede contener cualquiera de los términos. Por ejemplo, python OR programming devolverá documentos que contengan \"python\", \"programming\" o ambos.\n",
    "NOT: El documento no debe contener el término siguiente a NOT. Por ejemplo, python NOT snake devolverá documentos que contengan \"python\" pero no \"snake\""
   ]
  },
  {
   "cell_type": "code",
   "execution_count": 11,
   "id": "434949fa",
   "metadata": {},
   "outputs": [],
   "source": [
    "palabra_a_buscar = []"
   ]
  },
  {
   "cell_type": "code",
   "execution_count": 12,
   "id": "f6bab693",
   "metadata": {},
   "outputs": [
    {
     "name": "stdout",
     "output_type": "stream",
     "text": [
      "Ingresa la palabra que quieres buscar: zulu\n"
     ]
    }
   ],
   "source": [
    "palabra_a_buscar.append(input(\"Ingresa la palabra que quieres buscar: \"))"
   ]
  },
  {
   "cell_type": "code",
   "execution_count": 13,
   "id": "1e33382d",
   "metadata": {},
   "outputs": [
    {
     "name": "stdout",
     "output_type": "stream",
     "text": [
      "Ingresa la segunda palabra que quieres buscar: that\n"
     ]
    }
   ],
   "source": [
    "palabra_a_buscar.append(input(\"Ingresa la segunda palabra que quieres buscar: \")) "
   ]
  },
  {
   "cell_type": "code",
   "execution_count": 14,
   "id": "21e2256e",
   "metadata": {},
   "outputs": [
    {
     "name": "stdout",
     "output_type": "stream",
     "text": [
      "La palabras estan en las filas: 162907, 184120\n"
     ]
    }
   ],
   "source": [
    "indices_palabras = []\n",
    "indice_value=[]\n",
    "for key, value in diccionario_bi.items():\n",
    "    if value in palabra_a_buscar:\n",
    "        indice_value.append(value)\n",
    "        indices_palabras.append(key)\n",
    "          \n",
    "# Verificar si se encontraron palabras y cuántas\n",
    "if indices_palabras:\n",
    "    if len(indices_palabras) == 1:\n",
    "        print(\"La palabra está en la fila:\", indices_palabras[0])\n",
    "    elif len(indices_palabras) > 1:\n",
    "        print(\"La palabras estan en las filas:\", \", \".join(map(str, indices_palabras)))\n",
    "else:\n",
    "    print(\"Las palabra no esta en los libros del directorio.\")"
   ]
  },
  {
   "cell_type": "code",
   "execution_count": 15,
   "id": "f6535958",
   "metadata": {},
   "outputs": [
    {
     "name": "stdout",
     "output_type": "stream",
     "text": [
      "{'that': array([1, 1, 1, 1, 1, 1, 1, 1, 1, 1, 1, 1, 1, 1, 1, 1, 1, 1, 1, 1, 1, 1,\n",
      "       1, 1, 1, 1, 1, 1, 1, 1, 1, 1, 1, 1, 1, 1, 1, 1, 1, 1, 1, 1, 1, 1,\n",
      "       1, 1, 1, 1, 1, 1, 1, 1, 1, 1, 1, 1, 1, 1, 1, 1, 1, 1, 1, 1, 1, 1,\n",
      "       1, 1, 1, 1, 1, 1, 1, 1, 1, 1, 1, 1, 1, 1, 1, 1, 1, 1, 1, 1, 1, 1,\n",
      "       1, 1, 1, 1, 1, 1, 1, 1, 1, 1, 1, 1]), 'zulu': array([0, 0, 0, 0, 0, 0, 0, 0, 0, 0, 0, 0, 0, 0, 0, 0, 0, 0, 0, 0, 0, 0,\n",
      "       0, 0, 0, 0, 0, 0, 0, 0, 0, 0, 0, 0, 0, 0, 0, 0, 0, 0, 0, 0, 0, 0,\n",
      "       0, 0, 0, 0, 0, 0, 0, 0, 0, 0, 0, 0, 0, 0, 0, 0, 0, 0, 0, 0, 0, 0,\n",
      "       0, 0, 0, 0, 0, 0, 0, 0, 0, 0, 0, 0, 0, 0, 0, 0, 0, 0, 0, 0, 0, 0,\n",
      "       0, 0, 0, 0, 0, 0, 1, 0, 0, 0, 0, 0])}\n"
     ]
    }
   ],
   "source": [
    "diccionario_filas = {}\n",
    "contador=0\n",
    "\n",
    "for i in indices_palabras:\n",
    "    diccionario_filas[indice_value[contador]] = matriz[i]\n",
    "    contador=contador+1\n",
    "\n",
    "print(diccionario_filas)"
   ]
  },
  {
   "cell_type": "code",
   "execution_count": 16,
   "id": "fd7da86c",
   "metadata": {},
   "outputs": [],
   "source": [
    "for palabra, matriz in diccionario_filas.items():\n",
    "    diccionario_filas[palabra] = np.array(matriz)"
   ]
  },
  {
   "cell_type": "code",
   "execution_count": 17,
   "id": "52a63797",
   "metadata": {},
   "outputs": [],
   "source": [
    "#print(diccionario_filas)"
   ]
  },
  {
   "cell_type": "code",
   "execution_count": 18,
   "id": "c8dbf1fc",
   "metadata": {},
   "outputs": [
    {
     "name": "stdout",
     "output_type": "stream",
     "text": [
      "[0 0 0 0 0 0 0 0 0 0 0 0 0 0 0 0 0 0 0 0 0 0 0 0 0 0 0 0 0 0 0 0 0 0 0 0 0\n",
      " 0 0 0 0 0 0 0 0 0 0 0 0 0 0 0 0 0 0 0 0 0 0 0 0 0 0 0 0 0 0 0 0 0 0 0 0 0\n",
      " 0 0 0 0 0 0 0 0 0 0 0 0 0 0 0 0 0 0 0 0 1 0 0 0 0 0]\n",
      "[1 1 1 1 1 1 1 1 1 1 1 1 1 1 1 1 1 1 1 1 1 1 1 1 1 1 1 1 1 1 1 1 1 1 1 1 1\n",
      " 1 1 1 1 1 1 1 1 1 1 1 1 1 1 1 1 1 1 1 1 1 1 1 1 1 1 1 1 1 1 1 1 1 1 1 1 1\n",
      " 1 1 1 1 1 1 1 1 1 1 1 1 1 1 1 1 1 1 1 1 1 1 1 1 1 1]\n"
     ]
    }
   ],
   "source": [
    "# Operación AND\n",
    "resultado_and =diccionario_filas[indice_value[0]] & diccionario_filas[indice_value[1]]\n",
    "print(resultado_and)\n",
    "\n",
    "# Operación OR\n",
    "resultado_or = diccionario_filas[indice_value[0]] | diccionario_filas[indice_value[1]]\n",
    "print(resultado_or)\n",
    "\n",
    "\n"
   ]
  },
  {
   "cell_type": "code",
   "execution_count": 19,
   "id": "fa23c24d",
   "metadata": {},
   "outputs": [
    {
     "name": "stdout",
     "output_type": "stream",
     "text": [
      "[1 1 1 1 1 1 1 1 1 1 1 1 1 1 1 1 1 1 1 1 1 1 1 1 1 1 1 1 1 1 1 1 1 1 1 1 1\n",
      " 1 1 1 1 1 1 1 1 1 1 1 1 1 1 1 1 1 1 1 1 1 1 1 1 1 1 1 1 1 1 1 1 1 1 1 1 1\n",
      " 1 1 1 1 1 1 1 1 1 1 1 1 1 1 1 1 1 1 1 1 0 1 1 1 1 1]\n"
     ]
    }
   ],
   "source": [
    "# Operación Not, traer el libro donde la segunda palabra no esta \n",
    "binarioNot = []\n",
    "for biNot in diccionario_filas[indice_value[1]]:\n",
    "    if biNot == 0:\n",
    "        binarioNot.append(1)\n",
    "    else:\n",
    "        binarioNot.append(0)\n",
    "\n",
    "bn=binarioNot        \n",
    "binot=np.array(bn)\n",
    "#print(binarioNot)\n",
    "print(binot)"
   ]
  },
  {
   "cell_type": "code",
   "execution_count": 20,
   "id": "fccb392b",
   "metadata": {},
   "outputs": [
    {
     "name": "stdout",
     "output_type": "stream",
     "text": [
      "(array([94], dtype=int64),)\n"
     ]
    }
   ],
   "source": [
    "indices_and = np.where(resultado_and == 1)\n",
    "print(indices_and)"
   ]
  },
  {
   "cell_type": "code",
   "execution_count": 21,
   "id": "5bcb0484",
   "metadata": {},
   "outputs": [
    {
     "name": "stdout",
     "output_type": "stream",
     "text": [
      "(array([ 0,  1,  2,  3,  4,  5,  6,  7,  8,  9, 10, 11, 12, 13, 14, 15, 16,\n",
      "       17, 18, 19, 20, 21, 22, 23, 24, 25, 26, 27, 28, 29, 30, 31, 32, 33,\n",
      "       34, 35, 36, 37, 38, 39, 40, 41, 42, 43, 44, 45, 46, 47, 48, 49, 50,\n",
      "       51, 52, 53, 54, 55, 56, 57, 58, 59, 60, 61, 62, 63, 64, 65, 66, 67,\n",
      "       68, 69, 70, 71, 72, 73, 74, 75, 76, 77, 78, 79, 80, 81, 82, 83, 84,\n",
      "       85, 86, 87, 88, 89, 90, 91, 92, 93, 94, 95, 96, 97, 98, 99],\n",
      "      dtype=int64),)\n"
     ]
    }
   ],
   "source": [
    "indices_or = np.where(resultado_or == 1)\n",
    "print(indices_or)"
   ]
  },
  {
   "cell_type": "code",
   "execution_count": 22,
   "id": "34f30923",
   "metadata": {},
   "outputs": [
    {
     "name": "stdout",
     "output_type": "stream",
     "text": [
      "(array([ 0,  1,  2,  3,  4,  5,  6,  7,  8,  9, 10, 11, 12, 13, 14, 15, 16,\n",
      "       17, 18, 19, 20, 21, 22, 23, 24, 25, 26, 27, 28, 29, 30, 31, 32, 33,\n",
      "       34, 35, 36, 37, 38, 39, 40, 41, 42, 43, 44, 45, 46, 47, 48, 49, 50,\n",
      "       51, 52, 53, 54, 55, 56, 57, 58, 59, 60, 61, 62, 63, 64, 65, 66, 67,\n",
      "       68, 69, 70, 71, 72, 73, 74, 75, 76, 77, 78, 79, 80, 81, 82, 83, 84,\n",
      "       85, 86, 87, 88, 89, 90, 91, 92, 93, 95, 96, 97, 98, 99],\n",
      "      dtype=int64),)\n"
     ]
    }
   ],
   "source": [
    "indices_Not = np.where(binot == 1)\n",
    "print(indices_Not)"
   ]
  },
  {
   "cell_type": "markdown",
   "id": "527feb05",
   "metadata": {},
   "source": [
    "### Paso 4: Procesamiento de la consulta\n",
    "Análisis de la consulta: Implemente una función que analice la consulta de entrada para identificar los términos y operadores.\n",
    "Buscar documentos: Basándose en la consulta analizada, implemente la lógica para recuperar y clasificar los documentos según las expresiones booleanas.\n",
    "Manejo de casos y coincidencias parciales: Opcionalmente, puede manejar casos y coincidencias parciales para refinar los resultados de la búsqueda."
   ]
  },
  {
   "cell_type": "code",
   "execution_count": 23,
   "id": "d2f932da",
   "metadata": {},
   "outputs": [],
   "source": [
    "def titulos_binarios1(indices_columnas,titulos_encontrados):\n",
    "    titulos_or2 = []\n",
    "    for nr2 in indices_columnas:\n",
    "        for nt2, titulo2 in enumerate(titulos_encontrados):\n",
    "            if nt2 == nr2:\n",
    "                titulos_or2.append(titulo2)\n",
    "                continue\n",
    "    return titulos_or2"
   ]
  },
  {
   "cell_type": "code",
   "execution_count": 24,
   "id": "cbd806d3",
   "metadata": {},
   "outputs": [],
   "source": [
    "titulos_And = titulos_binarios1(indices_and[0], titulos_encontrados)"
   ]
  },
  {
   "cell_type": "code",
   "execution_count": 25,
   "id": "ca7eeb76",
   "metadata": {},
   "outputs": [],
   "source": [
    "titulos_Or = titulos_binarios1(indices_or[0], titulos_encontrados)"
   ]
  },
  {
   "cell_type": "code",
   "execution_count": 26,
   "id": "36dc861c",
   "metadata": {},
   "outputs": [],
   "source": [
    "titulos_Not = titulos_binarios1(indices_Not[0], titulos_encontrados)"
   ]
  },
  {
   "cell_type": "code",
   "execution_count": 27,
   "id": "30f6c715",
   "metadata": {},
   "outputs": [],
   "source": [
    "#print(titulos_Not)"
   ]
  },
  {
   "cell_type": "code",
   "execution_count": 28,
   "id": "11718ff3",
   "metadata": {},
   "outputs": [],
   "source": [
    "#print(titulos_And)"
   ]
  },
  {
   "cell_type": "code",
   "execution_count": 29,
   "id": "092075d9",
   "metadata": {},
   "outputs": [],
   "source": [
    "#print(titulos_Or)"
   ]
  },
  {
   "cell_type": "markdown",
   "id": "3dc1f6ac",
   "metadata": {},
   "source": [
    "### Paso 5: Visualización de resultados\n",
    "Mostrar los resultados: Mostrar los documentos que coinciden con los criterios de búsqueda. Incluya funciones para gestionar las consultas que no den como resultado ningún documento coincidente."
   ]
  },
  {
   "cell_type": "code",
   "execution_count": 30,
   "id": "0ebc33f9",
   "metadata": {},
   "outputs": [
    {
     "name": "stdout",
     "output_type": "stream",
     "text": [
      "La palabra zulu y la palabra that se encontro en los siguientes libros juntos:\n",
      "Ulysses\n"
     ]
    }
   ],
   "source": [
    "\n",
    "if palabra_a_buscar:\n",
    "    print(\"La palabra \"+palabra_a_buscar[0]+\" y la palabra \"+palabra_a_buscar[1]+\" se encontro en los siguientes libros juntos:\")\n",
    "    for titulosAnd in titulos_And:\n",
    "        print(titulosAnd)\n",
    "else:\n",
    "    print(\"La palabra \"+palabra_a_buscar[0]+\" y la palabra \"+palabra_a_buscar[1]+\" no se encontro en ningun archivo en el directorio especificado juntos.\")"
   ]
  },
  {
   "cell_type": "code",
   "execution_count": 31,
   "id": "1b2a9cd3",
   "metadata": {},
   "outputs": [
    {
     "name": "stdout",
     "output_type": "stream",
     "text": [
      "La palabra zulu o la palabra that se encontraron en los siguientes libros:\n",
      "20_hrs_40_min_\n",
      "Adventures_of_Huckleberry_Finn\n",
      "Alices_Adventures_in_Wonderland\n",
      "Ang_Filibusterismo_Karugtóng_ng_Noli_Me_Tangere\n",
      "Anne_of_Green_Gables\n",
      "A_Christmas_Carol_in_Prose_Being_a_Ghost_Story_of_Christmas\n",
      "A_Dolls_House__a_play\n",
      "A_Modest_Proposal\n",
      "A_Room_with_a_View\n",
      "A_Study_in_Scarlet\n",
      "A_Tale_of_Two_Cities\n",
      "Calculus Made Easy\n",
      "Christina_of_Denmark_Duchess_of_Milan_and_Lorraine_15221590\n",
      "Come_Hither_A_Collection_of_Rhymes_and_Poems_for_the_Young_of_All_Ages_1295\n",
      "Cookery_and_Dining_in_Imperial_Rome\n",
      "Cranford\n",
      "Crime_and_Punishment\n",
      "Don_Juan\n",
      "Don_Quijote\n",
      "Don_Quixote\n",
      "Dracula\n",
      "Dubliners\n",
      "Frankenstein; Or, The Modern Prometheus\n",
      "Frankenstein_Or_The_Modern_Prometheus\n",
      "Geschiedenis_der_Noordsche_Compagnie\n",
      "Great_Expectations\n",
      "Grimms_Fairy_Tales\n",
      "Heart_of_Darkness\n",
      "History_of_Tom_Jones_a_Foundling\n",
      "Jane_Eyre_An_Autobiography\n",
      "La_casa_e_la_famiglia_di_Masaniello\n",
      "Leviathan\n",
      "Little_Women\n",
      "Little_Women_Or_Meg_Jo_Beth_and_Amy\n",
      "Magazine_of_western_history_illustrated_Vol_I_No_1_November_1884\n",
      "Memoirs_of_a_London_doll\n",
      "Metamorphosis\n",
      "Middlemarch\n",
      "Mo\n",
      "My_Life__Volume_1\n",
      "Noli_Me_Tangere\n",
      "Notes_from_the_Underground\n",
      "Peter_Pan\n",
      "Plotinos_Complete_Works_v_4\n",
      "Pride_and_Prejudice\n",
      "Romeo_and_Juliet\n",
      "Second_Treatise_of_Government\n",
      "Sketches_and_Studies_in_Italy_and_Greece_Complete\n",
      "The_Adventures_of_Ferdinand_Count_Fathom__Complete\n",
      "The_Adventures_of_Roderick_Random\n",
      "The_Adventures_of_Sherlock_Holmes\n",
      "The_Adventures_of_Tom_Sawyer_Complete\n",
      "The_Blue_Castle_a_novel\n",
      "The_Brothers_Karamazov\n",
      "The_Christ_Myth\n",
      "The_Complete_Works_of_William_Shakespeare\n",
      "The_Count_of_Monte_Cristo\n",
      "The_divine_comedy\n",
      "The_Empire_and_the_Papacy_9181273\n",
      "The_Enchanted_April\n",
      "The_Expedition_of_Humphry_Clinker\n",
      "The_Great_Gats\n",
      "The_History_of_Rome_Books_09_to_26\n",
      "The_History_of_Rome_Books_27_to_36\n",
      "The_Hound_of_the_Baskervilles\n",
      "The_Iliad\n",
      "The_Importance_of_Being_Earnest_A_Trivial_Comedy_for_Serious_People\n",
      "The_Kama_Sutra_of_Vatsyayana\n",
      "The_loyalists_of_America_and_their_times_\n",
      "The_Metamorphoses_of_Ovid_Books_VIIIXV\n",
      "The_Mysteries_of_London_v_14\n",
      "The_Native_Races_of_the_Pacific_states_Volume_1_Wild_Tribes\n",
      "The_Odyssey\n",
      "The_Philippines_a_Century_Hence\n",
      "The_Picture_of_Dorian_Gray\n",
      "The_poems_of_Heine_Complete\n",
      "The_Prince\n",
      "The_Reign_of_Greed\n",
      "The_Romance_of_Lust_A_classic_Victorian_erotic_novel\n",
      "The_Scarlet_Letter\n",
      "The_Science_and_Philosophy_of_the_Organism\n",
      "The_Scottish_Highlands_Highland_Clans_and_Highland_Regiments_Volume_1_of_2_550\n",
      "The_Scottish_Highlands_Highland_Clans_and_Highland_Regiments_Volume_2_of_2_1719\n",
      "The_Souls_of_Black_Folk\n",
      "The_starstealers\n",
      "The_story_of_Hungary\n",
      "The_Strange_Case_of_Dr_Jekyll_and_Mr_Hyde\n",
      "The_Wonderful_Wizard_of_Oz\n",
      "The_Yellow_Wallpaper\n",
      "Thirty_Years_View_Vol_2_of_2\n",
      "Thus_Spake_Zarathustra_A_Book_for_All_and_None\n",
      "Tractatus Logico-Philosophicus\n",
      "Treasure_Island\n",
      "Twenty_years_after\n",
      "Ulysses\n",
      "Up_the_Orinoco_and_down_the_Magdalena\n",
      "Walden_and_On_The_Duty_Of_Civil_Disobedience\n",
      "War_and_Peace\n",
      "WinniethePooh\n",
      "Wuthering_Heights\n"
     ]
    }
   ],
   "source": [
    "if palabra_a_buscar:\n",
    "    print(\"La palabra \"+palabra_a_buscar[0]+\" o la palabra \"+palabra_a_buscar[1]+\" se encontraron en los siguientes libros:\")\n",
    "    for titulosOr in titulos_Or:\n",
    "        print(titulosOr)\n",
    "else:\n",
    "    print(\"La palabra \"+palabra_a_buscar[0]+\" y la palabra \"+palabra_a_buscar[1]+\" no se encontro en ningun archivo en el directorio especificado.\")"
   ]
  },
  {
   "cell_type": "code",
   "execution_count": 32,
   "id": "cfaec335",
   "metadata": {},
   "outputs": [
    {
     "name": "stdout",
     "output_type": "stream",
     "text": [
      "La palabra zulu no se encontro en los siguientes libros:\n",
      "20_hrs_40_min_\n",
      "Adventures_of_Huckleberry_Finn\n",
      "Alices_Adventures_in_Wonderland\n",
      "Ang_Filibusterismo_Karugtóng_ng_Noli_Me_Tangere\n",
      "Anne_of_Green_Gables\n",
      "A_Christmas_Carol_in_Prose_Being_a_Ghost_Story_of_Christmas\n",
      "A_Dolls_House__a_play\n",
      "A_Modest_Proposal\n",
      "A_Room_with_a_View\n",
      "A_Study_in_Scarlet\n",
      "A_Tale_of_Two_Cities\n",
      "Calculus Made Easy\n",
      "Christina_of_Denmark_Duchess_of_Milan_and_Lorraine_15221590\n",
      "Come_Hither_A_Collection_of_Rhymes_and_Poems_for_the_Young_of_All_Ages_1295\n",
      "Cookery_and_Dining_in_Imperial_Rome\n",
      "Cranford\n",
      "Crime_and_Punishment\n",
      "Don_Juan\n",
      "Don_Quijote\n",
      "Don_Quixote\n",
      "Dracula\n",
      "Dubliners\n",
      "Frankenstein; Or, The Modern Prometheus\n",
      "Frankenstein_Or_The_Modern_Prometheus\n",
      "Geschiedenis_der_Noordsche_Compagnie\n",
      "Great_Expectations\n",
      "Grimms_Fairy_Tales\n",
      "Heart_of_Darkness\n",
      "History_of_Tom_Jones_a_Foundling\n",
      "Jane_Eyre_An_Autobiography\n",
      "La_casa_e_la_famiglia_di_Masaniello\n",
      "Leviathan\n",
      "Little_Women\n",
      "Little_Women_Or_Meg_Jo_Beth_and_Amy\n",
      "Magazine_of_western_history_illustrated_Vol_I_No_1_November_1884\n",
      "Memoirs_of_a_London_doll\n",
      "Metamorphosis\n",
      "Middlemarch\n",
      "Mo\n",
      "My_Life__Volume_1\n",
      "Noli_Me_Tangere\n",
      "Notes_from_the_Underground\n",
      "Peter_Pan\n",
      "Plotinos_Complete_Works_v_4\n",
      "Pride_and_Prejudice\n",
      "Romeo_and_Juliet\n",
      "Second_Treatise_of_Government\n",
      "Sketches_and_Studies_in_Italy_and_Greece_Complete\n",
      "The_Adventures_of_Ferdinand_Count_Fathom__Complete\n",
      "The_Adventures_of_Roderick_Random\n",
      "The_Adventures_of_Sherlock_Holmes\n",
      "The_Adventures_of_Tom_Sawyer_Complete\n",
      "The_Blue_Castle_a_novel\n",
      "The_Brothers_Karamazov\n",
      "The_Christ_Myth\n",
      "The_Complete_Works_of_William_Shakespeare\n",
      "The_Count_of_Monte_Cristo\n",
      "The_divine_comedy\n",
      "The_Empire_and_the_Papacy_9181273\n",
      "The_Enchanted_April\n",
      "The_Expedition_of_Humphry_Clinker\n",
      "The_Great_Gats\n",
      "The_History_of_Rome_Books_09_to_26\n",
      "The_History_of_Rome_Books_27_to_36\n",
      "The_Hound_of_the_Baskervilles\n",
      "The_Iliad\n",
      "The_Importance_of_Being_Earnest_A_Trivial_Comedy_for_Serious_People\n",
      "The_Kama_Sutra_of_Vatsyayana\n",
      "The_loyalists_of_America_and_their_times_\n",
      "The_Metamorphoses_of_Ovid_Books_VIIIXV\n",
      "The_Mysteries_of_London_v_14\n",
      "The_Native_Races_of_the_Pacific_states_Volume_1_Wild_Tribes\n",
      "The_Odyssey\n",
      "The_Philippines_a_Century_Hence\n",
      "The_Picture_of_Dorian_Gray\n",
      "The_poems_of_Heine_Complete\n",
      "The_Prince\n",
      "The_Reign_of_Greed\n",
      "The_Romance_of_Lust_A_classic_Victorian_erotic_novel\n",
      "The_Scarlet_Letter\n",
      "The_Science_and_Philosophy_of_the_Organism\n",
      "The_Scottish_Highlands_Highland_Clans_and_Highland_Regiments_Volume_1_of_2_550\n",
      "The_Scottish_Highlands_Highland_Clans_and_Highland_Regiments_Volume_2_of_2_1719\n",
      "The_Souls_of_Black_Folk\n",
      "The_starstealers\n",
      "The_story_of_Hungary\n",
      "The_Strange_Case_of_Dr_Jekyll_and_Mr_Hyde\n",
      "The_Wonderful_Wizard_of_Oz\n",
      "The_Yellow_Wallpaper\n",
      "Thirty_Years_View_Vol_2_of_2\n",
      "Thus_Spake_Zarathustra_A_Book_for_All_and_None\n",
      "Tractatus Logico-Philosophicus\n",
      "Treasure_Island\n",
      "Twenty_years_after\n",
      "Up_the_Orinoco_and_down_the_Magdalena\n",
      "Walden_and_On_The_Duty_Of_Civil_Disobedience\n",
      "War_and_Peace\n",
      "WinniethePooh\n",
      "Wuthering_Heights\n"
     ]
    }
   ],
   "source": [
    "if palabra_a_buscar:\n",
    "    print(\"La palabra \"+indice_value[1]+\" no se encontro en los siguientes libros:\")\n",
    "    for titulosNot in titulos_Not:\n",
    "        print(titulosNot)\n",
    "else:\n",
    "    print(\"La palabra se encontro en todos los archivos en el directorio especificado.\")"
   ]
  },
  {
   "cell_type": "code",
   "execution_count": null,
   "id": "4d3ab074",
   "metadata": {},
   "outputs": [],
   "source": []
  }
 ],
 "metadata": {
  "kernelspec": {
   "display_name": "Python 3 (ipykernel)",
   "language": "python",
   "name": "python3"
  },
  "language_info": {
   "codemirror_mode": {
    "name": "ipython",
    "version": 3
   },
   "file_extension": ".py",
   "mimetype": "text/x-python",
   "name": "python",
   "nbconvert_exporter": "python",
   "pygments_lexer": "ipython3",
   "version": "3.10.9"
  }
 },
 "nbformat": 4,
 "nbformat_minor": 5
}

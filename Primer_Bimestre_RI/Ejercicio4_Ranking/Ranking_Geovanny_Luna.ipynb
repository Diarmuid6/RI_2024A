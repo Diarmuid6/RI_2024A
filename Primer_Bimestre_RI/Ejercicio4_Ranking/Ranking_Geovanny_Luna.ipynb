{
 "cells": [
  {
   "cell_type": "markdown",
   "id": "9db9dd48",
   "metadata": {},
   "source": [
    "# Exploración de modelos de clasificación en la recuperación de información\n",
    "## Objetivo\n",
    "Comprender la aplicación práctica y las diferencias entre el modelo de espacio vectorial y el modelo de independencia binaria en la clasificación de documentos en relación con una consulta de usuario."
   ]
  },
  {
   "cell_type": "markdown",
   "id": "4b6549ce",
   "metadata": {},
   "source": [
    "## Paso 1: Preprocesamiento de datos\n",
    "Asegúrese de que los documentos siguen cargados y preprocesados desde la tarea anterior. Los datos deben estar limpios y listos para una consulta avanzada. Escriba una función para cargar y preprocesar los documentos de texto desde un directorio especificado. Este paso implica leer cada archivo, convertir el texto a minúsculas para un procesamiento uniforme y almacenar los resultados en un diccionario."
   ]
  },
  {
   "cell_type": "code",
   "execution_count": 1,
   "id": "a14636fb",
   "metadata": {},
   "outputs": [],
   "source": [
    "import os\n",
    "from pathlib import Path\n",
    "import re\n",
    "#from collections import defaultdict\n",
    "from collections import Counter\n",
    "import numpy as np"
   ]
  },
  {
   "cell_type": "code",
   "execution_count": 2,
   "id": "251121ff",
   "metadata": {},
   "outputs": [],
   "source": [
    "def buscar_titulos(directorio):\n",
    "    archivos_titulos = []\n",
    "    # Iterar sobre todos los archivos en el directorio\n",
    "    for archivo in directorio.glob('*.txt'):\n",
    "            # Abrir el archivo y buscar la palabra\n",
    "            titulo=archivo.stem\n",
    "            archivos_titulos.append(str(titulo))\n",
    "    return archivos_titulos"
   ]
  },
  {
   "cell_type": "code",
   "execution_count": 3,
   "id": "3e16dd0a",
   "metadata": {},
   "outputs": [],
   "source": [
    "def diccionario_libros(directorio):\n",
    "    palabras_individuales = []\n",
    "    for archivo in directorio.glob('*.txt'):\n",
    "            with open((archivo), 'r', encoding='utf-8') as file:   \n",
    "             contenido = file.read()\n",
    "            # Limpiar el contenido: eliminar caracteres especiales y dividir en palabras\n",
    "             palabras = re.findall(r'\\b[A-Za-z0-9]+\\b', contenido.lower())\n",
    "             palabras_individuales.extend(palabras)      \n",
    "    return palabras_individuales"
   ]
  },
  {
   "cell_type": "code",
   "execution_count": 4,
   "id": "07edccbe",
   "metadata": {},
   "outputs": [],
   "source": [
    "directorio_a_buscar = Path(\"data\")  # Ruta de la carpeta \"data\"\n",
    "titulos_encontrados = buscar_titulos(directorio_a_buscar)\n"
   ]
  },
  {
   "cell_type": "code",
   "execution_count": 5,
   "id": "b74db2f3",
   "metadata": {},
   "outputs": [],
   "source": [
    "palabras_diccionario=diccionario_libros(directorio_a_buscar)\n",
    "palabras_diccionario= set(palabras_diccionario)\n",
    "palabras_ordenadas = sorted(palabras_diccionario)"
   ]
  },
  {
   "cell_type": "code",
   "execution_count": 6,
   "id": "c666a71e",
   "metadata": {},
   "outputs": [],
   "source": [
    "filas=len(palabras_diccionario)\n",
    "columnas=len(titulos_encontrados)\n",
    "#matrizZeros = np.zeros((filas, columnas), dtype=int)\n",
    "#print(matrizZeros)"
   ]
  },
  {
   "cell_type": "markdown",
   "id": "b8173d66",
   "metadata": {},
   "source": [
    "## Paso 2: Modelo vectorial espacial (VSM)\n",
    "### Tarea: Implementar un Modelo de Espacio Vectorial simple utilizando la frecuencia de términos.\n",
    "\n",
    "### Requisitos:\n",
    "\n",
    "Representación de documentos y consultas: Convertir cada documento y la consulta en un vector donde cada dimensión corresponda a un término del corpus. Utilizar la frecuencia de términos simple para la ponderación.\n",
    "Cálculo de la similitud coseno: Calcular la similitud coseno entre el vector de consulta y cada vector de documento."
   ]
  },
  {
   "cell_type": "code",
   "execution_count": 10,
   "id": "8f88c406",
   "metadata": {},
   "outputs": [
    {
     "name": "stdout",
     "output_type": "stream",
     "text": [
      "[[ 7  0  1 ...  0  0  0]\n",
      " [ 1  0  0 ...  0  0  0]\n",
      " [23  1  1 ...  9  1  1]\n",
      " ...\n",
      " [ 0  0  0 ...  0  0  0]\n",
      " [ 0  0  0 ...  0  0  0]\n",
      " [ 0  0  0 ...  0  0  0]]\n"
     ]
    }
   ],
   "source": [
    "import numpy as np\n",
    "\n",
    "# Cargar la matriz desde el archivo \"matriz_guardada.npy\"\n",
    "matriz_cargada = np.load(\"matriz_de_Conteo.npy\")\n",
    "\n",
    "# Ahora puedes usar la matriz cargada en tu código\n",
    "print(matriz_cargada)"
   ]
  },
  {
   "cell_type": "code",
   "execution_count": 12,
   "id": "86cc0e49",
   "metadata": {},
   "outputs": [
    {
     "name": "stdout",
     "output_type": "stream",
     "text": [
      "Ingresa la palabra que quieres buscar: that hola como estas\n"
     ]
    }
   ],
   "source": [
    "palabra_a_buscar = input(\"Ingresa la palabra que quieres buscar: \") "
   ]
  },
  {
   "cell_type": "code",
   "execution_count": 13,
   "id": "54d32fbb",
   "metadata": {},
   "outputs": [],
   "source": [
    "def palabras_input(palabra_input):\n",
    "    palabras_ingresadas = []\n",
    "    palabras = re.findall(r'\\b[A-Za-z0-9]+\\b',palabra_input.lower())\n",
    "    palabras_ingresadas.extend(palabras) \n",
    "    return palabras_ingresadas"
   ]
  },
  {
   "cell_type": "code",
   "execution_count": 14,
   "id": "0bbc9623",
   "metadata": {},
   "outputs": [
    {
     "name": "stdout",
     "output_type": "stream",
     "text": [
      "['that', 'hola', 'como', 'estas']\n"
     ]
    }
   ],
   "source": [
    "palabra_dict = palabras_input(palabra_a_buscar)\n",
    "print(palabra_dict)"
   ]
  },
  {
   "cell_type": "code",
   "execution_count": 15,
   "id": "02b9fdd9",
   "metadata": {},
   "outputs": [
    {
     "name": "stdout",
     "output_type": "stream",
     "text": [
      "[[0 0 0 ... 0 0 0]\n",
      " [0 0 0 ... 0 0 0]\n",
      " [0 0 0 ... 0 0 0]\n",
      " ...\n",
      " [0 0 0 ... 0 0 0]\n",
      " [0 0 0 ... 0 0 0]\n",
      " [0 0 0 ... 0 0 0]]\n"
     ]
    }
   ],
   "source": [
    "matrizZeros2 = np.zeros((filas, columnas), dtype=int)\n",
    "print(matrizZeros2)"
   ]
  },
  {
   "cell_type": "code",
   "execution_count": 16,
   "id": "61b465c2",
   "metadata": {},
   "outputs": [],
   "source": [
    "def palabras_por_libro4(directorio, libro_nombre, input_palabra):\n",
    "    palabras_input = []\n",
    "    archivo = directorio / (libro_nombre + '.txt')\n",
    "    # Verificar si el archivo existe\n",
    "    if archivo.exists():\n",
    "        with open(archivo, 'r', encoding='utf-8') as file:\n",
    "            contenido = file.read()\n",
    "            # Limpiar el contenido: eliminar caracteres especiales y dividir en palabras\n",
    "            palabras_individuales = re.findall(r'\\b[A-Za-z0-9]+\\b', contenido.lower())\n",
    "            for palabra in input_palabra:\n",
    "                if palabra.lower() in palabras_individuales:  # Verificar si la palabra completa está presente\n",
    "                    palabras_input.append(palabra)\n",
    "    return palabras_input\n"
   ]
  },
  {
   "cell_type": "code",
   "execution_count": 18,
   "id": "3f7b27e1",
   "metadata": {},
   "outputs": [],
   "source": [
    "for x, titulo2 in enumerate(titulos_encontrados):\n",
    "   # contador_palabras=1\n",
    "   # print(matriz[j])\n",
    "    palabras_por_libro_actual4= palabras_por_libro4(directorio_a_buscar,titulo2,palabra_dict)\n",
    "   # print(palabras_por_libro_actual4)\n",
    "    for y, palabra2 in enumerate(palabras_ordenadas):\n",
    "        if palabra2 in palabras_por_libro_actual4:\n",
    "            matrizZeros2[y, x] = 1"
   ]
  },
  {
   "cell_type": "code",
   "execution_count": 19,
   "id": "c3d4464a",
   "metadata": {},
   "outputs": [
    {
     "name": "stdout",
     "output_type": "stream",
     "text": [
      "[[0 0 0 ... 0 0 0]\n",
      " [0 0 0 ... 0 0 0]\n",
      " [0 0 0 ... 0 0 0]\n",
      " ...\n",
      " [0 0 0 ... 0 0 0]\n",
      " [0 0 0 ... 0 0 0]\n",
      " [0 0 0 ... 0 0 0]]\n"
     ]
    }
   ],
   "source": [
    "print(matrizZeros2)"
   ]
  },
  {
   "cell_type": "code",
   "execution_count": 26,
   "id": "e792d2df",
   "metadata": {},
   "outputs": [],
   "source": [
    "#162907, 184120"
   ]
  },
  {
   "cell_type": "code",
   "execution_count": 27,
   "id": "f88d94f3",
   "metadata": {},
   "outputs": [],
   "source": [
    "def multiplicar_matrices(matriz1, matriz2):\n",
    "    matriz1_np = np.array(matriz1)\n",
    "    matriz2_np = np.array(matriz2)\n",
    "    resultado = np.multiply(matriz1_np, matriz2_np)\n",
    "    #return resultado.tolist()\n",
    "    return resultado"
   ]
  },
  {
   "cell_type": "code",
   "execution_count": 28,
   "id": "04e4aa03",
   "metadata": {},
   "outputs": [],
   "source": [
    "resultado_matrices= multiplicar_matrices(matriz_cargada, matrizZeros2)"
   ]
  },
  {
   "cell_type": "markdown",
   "id": "47c727f4",
   "metadata": {},
   "source": [
    "## Paso 3: Modelo binario de independencia (BIM)\n",
    "### Tarea: Implementar un Modelo de Independencia Binaria básico para clasificar documentos.\n",
    "\n",
    "### Requisitos:\n",
    "\n",
    "Representación binaria: Representar el corpus y la consulta en vectores binarios (1 si el término está presente, 0 en caso contrario).\n",
    "Estimación de probabilidades: Asumir probabilidades arbitrarias para la presencia de cada término en documentos relevantes y no relevantes.\n",
    "Puntuación de relevancia: Calcular la puntuación de relevancia de cada documento a partir del producto de las probabilidades de los términos presentes en la consulta."
   ]
  },
  {
   "cell_type": "code",
   "execution_count": 30,
   "id": "0c90b8c8",
   "metadata": {},
   "outputs": [],
   "source": [
    "resultado_final=[]\n",
    "for l, titulo2 in enumerate(titulos_encontrados):\n",
    "    fila1 = matriz_cargada[:,l]\n",
    "    modulo1 = np.linalg.norm(fila1)\n",
    "    fila2 = matrizZeros2[:,l]\n",
    "    modulo2 = np.linalg.norm(fila2)\n",
    "    suma_matriz=sum(resultado_matrices[:,l])\n",
    "    resultado_coseno= (suma_matriz)/(modulo1*modulo2)\n",
    "    resultado_final.append(resultado_coseno)"
   ]
  },
  {
   "cell_type": "code",
   "execution_count": 31,
   "id": "923a117e",
   "metadata": {},
   "outputs": [
    {
     "name": "stdout",
     "output_type": "stream",
     "text": [
      "[0.08361295236251011, 0.10029362013972987, 0.1045828318678386, 0.000900898409985926, 0.14055538360060418, 0.11969151624533524, 0.17348298231641718, 0.0832941654978965, 0.15436998364286586, 0.1508059719357134, 0.1409169782234084, 0.10923828849610065, 0.07681174905325958, 0.10996168271726219, 0.061887880492259226, 0.12352434138100016, 0.1739206779527387, 0.10306473344563839, 0.0304734826186753, 0.18636702991443255, 0.1583825358762484, 0.10328640779461758, 0.1322782604965072, 0.1322782604965072, 0.005710129373482996, 0.16709594785623322, 0.10148695089407904, 0.10658496638261672, 0.1259649239883538, 0.09350642124946748, 0.002677062401588409, 0.19187726940613067, 0.11131109176998913, 0.10892108000218784, 0.0757892875210301, 0.07587256560697549, 0.14660149768133351, 0.12786112680003106, 0.1435461647623297, 0.12334762521764472, 0.0004254892434083183, 0.15279611309857266, 0.1391237614625585, 0.1281703128674669, 0.1383894847964286, 0.15955307162325058, 0.15128470064029925, 0.05016256260301785, 0.12526825989743517, 0.13209782299950554, 0.16810101517967052, 0.14216681004190354, 0.1438202786677576, 0.1874527671337171, 0.08457902511852149, 0.16073762953381898, 0.1244448907086167, 0.2112014654586722, 0.036435047047771243, 0.1251500064752545, 0.12455612513876596, 0.13491505692647907, 0.13881130874199393, 0.14101930707481658, 0.19101341780593736, 0.05066556328779283, 0.1611327334272828, 0.06570737151991392, 0.08813266567447829, 0.11178688671280279, 0.14711267577983703, 0.02217166852551496, 0.10325264153400658, 0.12446807648030282, 0.17914829335481727, 0.07305707542710055, 0.13656381297620962, 0.14705555454867733, 0.11962505077154591, 0.12307779382714103, 0.13485906671567074, 0.08740176114435035, 0.055081965875568774, 0.07936260484888358, 0.10332678182741362, 0.05084962071338128, 0.1299891737579226, 0.08844064415450856, 0.13715724575312316, 0.10041838124471118, 0.12695467828279558, 0.11564371864687478, 0.12404413837073855, 0.14144524182911647, 0.06720337137152296, 0.078291686853152, 0.11133499988982684, 0.1448472027477833, 0.12061794478586628, 0.111967600454958]\n"
     ]
    }
   ],
   "source": [
    "print(resultado_final)"
   ]
  },
  {
   "cell_type": "code",
   "execution_count": 32,
   "id": "84fa01d5",
   "metadata": {},
   "outputs": [],
   "source": [
    "indice_maximo = resultado_final.index(max(resultado_final))\n",
    "respuesta=None\n",
    "for indice, palabra in enumerate(titulos_encontrados):\n",
    "    if indice == indice_maximo:\n",
    "       respuesta = palabra"
   ]
  },
  {
   "cell_type": "code",
   "execution_count": 33,
   "id": "065b1ee9",
   "metadata": {},
   "outputs": [
    {
     "name": "stdout",
     "output_type": "stream",
     "text": [
      "El libro con mas similitud al query es:  The_divine_comedy\n"
     ]
    }
   ],
   "source": [
    "print(\"El libro con mas similitud al query es: \", respuesta)"
   ]
  },
  {
   "cell_type": "code",
   "execution_count": null,
   "id": "ccaec439",
   "metadata": {},
   "outputs": [],
   "source": []
  }
 ],
 "metadata": {
  "kernelspec": {
   "display_name": "Python 3 (ipykernel)",
   "language": "python",
   "name": "python3"
  },
  "language_info": {
   "codemirror_mode": {
    "name": "ipython",
    "version": 3
   },
   "file_extension": ".py",
   "mimetype": "text/x-python",
   "name": "python",
   "nbconvert_exporter": "python",
   "pygments_lexer": "ipython3",
   "version": "3.10.9"
  }
 },
 "nbformat": 4,
 "nbformat_minor": 5
}

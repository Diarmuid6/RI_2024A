{
 "cells": [
  {
   "cell_type": "markdown",
   "metadata": {},
   "source": [
    "Descargamos las librerias"
   ]
  },
  {
   "cell_type": "code",
   "execution_count": 1,
   "metadata": {},
   "outputs": [],
   "source": [
    "from bs4 import BeautifulSoup\n",
    "import pandas as pd\n",
    "import numpy as np\n",
    "import requests\n",
    "from tqdm import tqdm"
   ]
  },
  {
   "cell_type": "markdown",
   "metadata": {},
   "source": [
    "Paso 1: Cargamos el archivo html y creamos una cabecera para que la página no crea que somos bots"
   ]
  },
  {
   "cell_type": "code",
   "execution_count": 2,
   "metadata": {},
   "outputs": [],
   "source": [
    "# Agregar encabezados de usuario para emular una solicitud desde un navegador\n",
    "headers = {\n",
    "    \"User-Agent\":\"My Phyton App\"\n",
    "}\n",
    "\n",
    "with open(r\"C:\\Users\\Geovanny\\Desktop\\septimo_semestre\\Recuperacion_Informacion_2024A\\Deberes_RI\\link_recetas\\Recipes A-Z _ Allrecipes.com.html\",\"r\",encoding=\"utf-8\") as file: \n",
    "    html_content1=file.read()\n",
    "\n",
    "soup= BeautifulSoup(html_content1,\"html.parser\" )\n",
    "#soup"
   ]
  },
  {
   "cell_type": "markdown",
   "metadata": {},
   "source": [
    "Funcion para guardar los archivos html de cada link que se pase"
   ]
  },
  {
   "cell_type": "code",
   "execution_count": 3,
   "metadata": {},
   "outputs": [],
   "source": [
    "def responseURL(urlresponse,headers,timeout=10):\n",
    "    html_content=[]\n",
    "    for url1 in tqdm(urlresponse, \"Progreso\"):\n",
    "        try:\n",
    "            response = requests.get(url1, headers=headers, timeout=timeout)\n",
    "            htmltext = response.text\n",
    "            html_content.append(BeautifulSoup(htmltext, \"html.parser\"))\n",
    "        except requests.Timeout:\n",
    "            print(f\"Timeout occurred for URL: {url1}\")\n",
    "        except requests.RequestException as e:\n",
    "            print(f\"Request failed for URL: {url1} with exception: {e}\")\n",
    "    return html_content    "
   ]
  },
  {
   "cell_type": "markdown",
   "metadata": {},
   "source": [
    "Funcion para obtener los links del html Recipes A-Z_Allrecipes.com.html\n",
    "\n",
    "Obtenemos los links que nos dirigen a cada pagina que tiene recetas de un tipo especifico, Por ejemplo la pagina de recetas de pescado tendra varios links para cada tipo de forma de prepararlo."
   ]
  },
  {
   "cell_type": "code",
   "execution_count": 4,
   "metadata": {},
   "outputs": [],
   "source": [
    "def obtenerLinks(htmlLinks):\n",
    "    totalLinks=[]\n",
    "    for itemLink in htmlLinks.find_all(\"li\", class_=\"comp mntl-link-list__item\"):\n",
    "        a_tag = itemLink.find(\"a\", href=True)\n",
    "        if a_tag:\n",
    "            totalLinks.append(a_tag['href'])\n",
    "    return totalLinks    \n"
   ]
  },
  {
   "cell_type": "markdown",
   "metadata": {},
   "source": [
    "Obtenemos los links para todos los diferentes tipos de recetas que hay."
   ]
  },
  {
   "cell_type": "code",
   "execution_count": 5,
   "metadata": {},
   "outputs": [],
   "source": [
    "def recetasPorLink(HtmlPag):\n",
    "    totalLinkspag=[]\n",
    "    for itemLink in HtmlPag.find_all(\"a\", class_=\"comp mntl-card-list-items mntl-document-card mntl-card card card--no-image\"):\n",
    "        if itemLink.has_attr('href'):\n",
    "            totalLinkspag.append(itemLink['href'])\n",
    "    return totalLinkspag     \n",
    "    "
   ]
  },
  {
   "cell_type": "markdown",
   "metadata": {},
   "source": [
    "Función para obtener el titulos de cada receta"
   ]
  },
  {
   "cell_type": "code",
   "execution_count": 6,
   "metadata": {},
   "outputs": [],
   "source": [
    "def obtenerTitulo(HtmlTitulo):\n",
    "    titulorespuesta=[]\n",
    "    for tituloreceta in HtmlTitulo:\n",
    "        titulorespuesta.append(tituloreceta.find(\"title\").text)\n",
    "    return titulorespuesta"
   ]
  },
  {
   "cell_type": "markdown",
   "metadata": {},
   "source": [
    "Función para obtener la descripción de cada receta"
   ]
  },
  {
   "cell_type": "code",
   "execution_count": 7,
   "metadata": {},
   "outputs": [],
   "source": [
    "def descripcionReceta(HTMLReceta):\n",
    "    respuestaDescripcion=[]\n",
    "    for descripcionReceta in HTMLReceta:\n",
    "        resp =descripcionReceta.find(\"p\", class_=\"article-subheading type--dog\")\n",
    "        if resp:\n",
    "           respuestaDescripcion.append(resp.text)\n",
    "        else:\n",
    "           respuestaDescripcion.append(np.nan)\n",
    "    return respuestaDescripcion"
   ]
  },
  {
   "cell_type": "markdown",
   "metadata": {},
   "source": [
    "Función para obtener los ingredientes de cada receta"
   ]
  },
  {
   "cell_type": "code",
   "execution_count": 8,
   "metadata": {},
   "outputs": [],
   "source": [
    "def ingredienteReceta(HTMLIngrediente):\n",
    "    ingrediente=[]\n",
    "    for ingredienteItem in HTMLIngrediente:\n",
    "        respuestaIngrediente=''\n",
    "        for item in ingredienteItem.find_all(\"li\", class_=\"mm-recipes-structured-ingredients__list-item\"):\n",
    "             respuestaIngrediente += item.text.strip()+'\\n'\n",
    "        ingrediente.append(respuestaIngrediente)\n",
    "    return ingrediente"
   ]
  },
  {
   "cell_type": "markdown",
   "metadata": {},
   "source": [
    "Función para obtener los pasos de cada receta"
   ]
  },
  {
   "cell_type": "code",
   "execution_count": 9,
   "metadata": {},
   "outputs": [],
   "source": [
    "def pasosReceta(HTMLPasos):\n",
    "    pasos=[]\n",
    "    for pasosItem in HTMLPasos:\n",
    "        respuestaPasos=''\n",
    "        for itemPaso in pasosItem.find_all(\"li\", class_=\"comp mntl-sc-block mntl-sc-block-startgroup mntl-sc-block-group--LI\"):\n",
    "            for tag in itemPaso.find_all([\"figure\", \"div\"]):\n",
    "                tag.decompose()\n",
    "            respuestaPasos+=itemPaso.text.strip()+'\\n'\n",
    "        pasos.append(respuestaPasos)\n",
    "    return pasos"
   ]
  },
  {
   "cell_type": "markdown",
   "metadata": {},
   "source": [
    "Obtenemos los links de cada tipo de receta que hay del html Recipes A-Z_Allrecipes.com.html, y luego obtenemos los html de cada tipo de receta"
   ]
  },
  {
   "cell_type": "code",
   "execution_count": 10,
   "metadata": {},
   "outputs": [],
   "source": [
    "linksHtml= obtenerLinks(soup)\n",
    "#linksHtml"
   ]
  },
  {
   "cell_type": "code",
   "execution_count": 11,
   "metadata": {},
   "outputs": [
    {
     "name": "stderr",
     "output_type": "stream",
     "text": [
      "Progreso: 100%|██████████| 378/378 [03:46<00:00,  1.67it/s]\n"
     ]
    }
   ],
   "source": [
    "HTMLrecetas=responseURL(linksHtml,headers)\n",
    "#linksrecetas"
   ]
  },
  {
   "cell_type": "markdown",
   "metadata": {},
   "source": [
    "De cada tipo de receta obtenemos los links y los guardamos en una lista."
   ]
  },
  {
   "cell_type": "code",
   "execution_count": 12,
   "metadata": {},
   "outputs": [],
   "source": [
    "linksPorPaginaReceta= [recetasPorLink(link) for link in HTMLrecetas]\n",
    "#linksPorPaginaReceta"
   ]
  },
  {
   "cell_type": "code",
   "execution_count": 13,
   "metadata": {},
   "outputs": [],
   "source": [
    "linksTodasPaginas= [] \n",
    "for desp in linksPorPaginaReceta:\n",
    "    for des in desp:\n",
    "        linksTodasPaginas.append(des)\n",
    "\n",
    "#linksTodasPaginas"
   ]
  },
  {
   "cell_type": "markdown",
   "metadata": {},
   "source": [
    "Cantidad de links de todas las recetas"
   ]
  },
  {
   "cell_type": "code",
   "execution_count": 14,
   "metadata": {},
   "outputs": [
    {
     "data": {
      "text/plain": [
       "18124"
      ]
     },
     "execution_count": 14,
     "metadata": {},
     "output_type": "execute_result"
    }
   ],
   "source": [
    "len(linksTodasPaginas)"
   ]
  },
  {
   "cell_type": "code",
   "execution_count": 14,
   "metadata": {},
   "outputs": [
    {
     "data": {
      "text/plain": [
       "'https://www.allrecipes.com/recipe/12291/cherry-crumble/'"
      ]
     },
     "execution_count": 14,
     "metadata": {},
     "output_type": "execute_result"
    }
   ],
   "source": [
    "linksTodasPaginas[4312]"
   ]
  },
  {
   "cell_type": "markdown",
   "metadata": {},
   "source": [
    "Obtenemos los html de cada link de todos los tipos de recetas que hay"
   ]
  },
  {
   "cell_type": "code",
   "execution_count": 15,
   "metadata": {},
   "outputs": [
    {
     "name": "stderr",
     "output_type": "stream",
     "text": [
      "Progreso:  56%|█████▌    | 10063/18124 [1:36:27<7:29:03,  3.34s/it]  "
     ]
    },
    {
     "name": "stdout",
     "output_type": "stream",
     "text": [
      "Timeout occurred for URL: https://www.allrecipes.com/teriyaki-steak-quesadillas-recipe-7972550\n"
     ]
    },
    {
     "name": "stderr",
     "output_type": "stream",
     "text": [
      "Progreso: 100%|██████████| 18124/18124 [5:01:23<00:00,  1.00it/s]      \n"
     ]
    }
   ],
   "source": [
    "#linksrecetas=responseURL(linksTodasPaginas[:367],headers)\n",
    "HTMLrecetasTodas=responseURL(linksTodasPaginas,headers)\n",
    "#linksrecetas"
   ]
  },
  {
   "cell_type": "markdown",
   "metadata": {},
   "source": [
    "Llamamos a la función obtener Titulo para obtener el titulo de cada receta y lo guardamos en un dataframe en la columna 'Titulo'"
   ]
  },
  {
   "cell_type": "code",
   "execution_count": 18,
   "metadata": {},
   "outputs": [],
   "source": [
    "titulo_receta = obtenerTitulo(HTMLrecetasTodas)\n",
    "#titulo_receta"
   ]
  },
  {
   "cell_type": "code",
   "execution_count": 19,
   "metadata": {},
   "outputs": [
    {
     "data": {
      "text/html": [
       "<div>\n",
       "<style scoped>\n",
       "    .dataframe tbody tr th:only-of-type {\n",
       "        vertical-align: middle;\n",
       "    }\n",
       "\n",
       "    .dataframe tbody tr th {\n",
       "        vertical-align: top;\n",
       "    }\n",
       "\n",
       "    .dataframe thead th {\n",
       "        text-align: right;\n",
       "    }\n",
       "</style>\n",
       "<table border=\"1\" class=\"dataframe\">\n",
       "  <thead>\n",
       "    <tr style=\"text-align: right;\">\n",
       "      <th></th>\n",
       "      <th>Titulo</th>\n",
       "    </tr>\n",
       "  </thead>\n",
       "  <tbody>\n",
       "    <tr>\n",
       "      <th>0</th>\n",
       "      <td>Air Fryer Smashed Potatoes Recipe</td>\n",
       "    </tr>\n",
       "    <tr>\n",
       "      <th>1</th>\n",
       "      <td>Air Fryer Quesadillas Recipe</td>\n",
       "    </tr>\n",
       "    <tr>\n",
       "      <th>2</th>\n",
       "      <td>Air Fryer Truffle Polenta Fries Recipe</td>\n",
       "    </tr>\n",
       "    <tr>\n",
       "      <th>3</th>\n",
       "      <td>Air Fryer Firecracker Salmon Bites Recipe</td>\n",
       "    </tr>\n",
       "    <tr>\n",
       "      <th>4</th>\n",
       "      <td>Air Fryer Chicken Bites Recipe</td>\n",
       "    </tr>\n",
       "    <tr>\n",
       "      <th>...</th>\n",
       "      <td>...</td>\n",
       "    </tr>\n",
       "    <tr>\n",
       "      <th>18118</th>\n",
       "      <td>Vegan Zucchini Banana Bread Recipe</td>\n",
       "    </tr>\n",
       "    <tr>\n",
       "      <th>18119</th>\n",
       "      <td>Zucchini-Raspberry Bread Recipe</td>\n",
       "    </tr>\n",
       "    <tr>\n",
       "      <th>18120</th>\n",
       "      <td>Healthier Mom's Zucchini Bread Recipe</td>\n",
       "    </tr>\n",
       "    <tr>\n",
       "      <th>18121</th>\n",
       "      <td>Zucchini Bread, Pumpkin Style Recipe</td>\n",
       "    </tr>\n",
       "    <tr>\n",
       "      <th>18122</th>\n",
       "      <td>Gluten-Free Zucchini Bread (or Muffins) Recipe</td>\n",
       "    </tr>\n",
       "  </tbody>\n",
       "</table>\n",
       "<p>18123 rows × 1 columns</p>\n",
       "</div>"
      ],
      "text/plain": [
       "                                               Titulo\n",
       "0                   Air Fryer Smashed Potatoes Recipe\n",
       "1                        Air Fryer Quesadillas Recipe\n",
       "2              Air Fryer Truffle Polenta Fries Recipe\n",
       "3           Air Fryer Firecracker Salmon Bites Recipe\n",
       "4                      Air Fryer Chicken Bites Recipe\n",
       "...                                               ...\n",
       "18118              Vegan Zucchini Banana Bread Recipe\n",
       "18119                 Zucchini-Raspberry Bread Recipe\n",
       "18120           Healthier Mom's Zucchini Bread Recipe\n",
       "18121            Zucchini Bread, Pumpkin Style Recipe\n",
       "18122  Gluten-Free Zucchini Bread (or Muffins) Recipe\n",
       "\n",
       "[18123 rows x 1 columns]"
      ]
     },
     "execution_count": 19,
     "metadata": {},
     "output_type": "execute_result"
    }
   ],
   "source": [
    "cocina=pd.DataFrame(titulo_receta, columns=['Titulo'])\n",
    "cocina"
   ]
  },
  {
   "cell_type": "markdown",
   "metadata": {},
   "source": [
    "Llamamos a la función descripcionReceta para obtener la descripcion de cada receta y lo guardamos en un dataframe en la columna 'descripcion'"
   ]
  },
  {
   "cell_type": "code",
   "execution_count": 20,
   "metadata": {},
   "outputs": [],
   "source": [
    "descripcion=descripcionReceta(HTMLrecetasTodas)"
   ]
  },
  {
   "cell_type": "code",
   "execution_count": 21,
   "metadata": {},
   "outputs": [
    {
     "data": {
      "text/html": [
       "<div>\n",
       "<style scoped>\n",
       "    .dataframe tbody tr th:only-of-type {\n",
       "        vertical-align: middle;\n",
       "    }\n",
       "\n",
       "    .dataframe tbody tr th {\n",
       "        vertical-align: top;\n",
       "    }\n",
       "\n",
       "    .dataframe thead th {\n",
       "        text-align: right;\n",
       "    }\n",
       "</style>\n",
       "<table border=\"1\" class=\"dataframe\">\n",
       "  <thead>\n",
       "    <tr style=\"text-align: right;\">\n",
       "      <th></th>\n",
       "      <th>Titulo</th>\n",
       "      <th>descripcion</th>\n",
       "    </tr>\n",
       "  </thead>\n",
       "  <tbody>\n",
       "    <tr>\n",
       "      <th>0</th>\n",
       "      <td>Air Fryer Smashed Potatoes Recipe</td>\n",
       "      <td>These golden, crispy air fryer smashed potatoe...</td>\n",
       "    </tr>\n",
       "    <tr>\n",
       "      <th>1</th>\n",
       "      <td>Air Fryer Quesadillas Recipe</td>\n",
       "      <td>These air fryer quesadillas are golden and cri...</td>\n",
       "    </tr>\n",
       "    <tr>\n",
       "      <th>2</th>\n",
       "      <td>Air Fryer Truffle Polenta Fries Recipe</td>\n",
       "      <td>These air fryer truffle polenta fries, flavore...</td>\n",
       "    </tr>\n",
       "    <tr>\n",
       "      <th>3</th>\n",
       "      <td>Air Fryer Firecracker Salmon Bites Recipe</td>\n",
       "      <td>These air fryer firecracker salmon bites get a...</td>\n",
       "    </tr>\n",
       "    <tr>\n",
       "      <th>4</th>\n",
       "      <td>Air Fryer Chicken Bites Recipe</td>\n",
       "      <td>These air fryer chicken bites, seasoned with l...</td>\n",
       "    </tr>\n",
       "    <tr>\n",
       "      <th>...</th>\n",
       "      <td>...</td>\n",
       "      <td>...</td>\n",
       "    </tr>\n",
       "    <tr>\n",
       "      <th>18118</th>\n",
       "      <td>Vegan Zucchini Banana Bread Recipe</td>\n",
       "      <td>This yummy, moist, rich zucchini banana bread ...</td>\n",
       "    </tr>\n",
       "    <tr>\n",
       "      <th>18119</th>\n",
       "      <td>Zucchini-Raspberry Bread Recipe</td>\n",
       "      <td>It's a simple zucchini nut bread with a splash...</td>\n",
       "    </tr>\n",
       "    <tr>\n",
       "      <th>18120</th>\n",
       "      <td>Healthier Mom's Zucchini Bread Recipe</td>\n",
       "      <td>We packed even more zucchini into Mom's wonder...</td>\n",
       "    </tr>\n",
       "    <tr>\n",
       "      <th>18121</th>\n",
       "      <td>Zucchini Bread, Pumpkin Style Recipe</td>\n",
       "      <td>Although I love zucchini bread, I wanted a new...</td>\n",
       "    </tr>\n",
       "    <tr>\n",
       "      <th>18122</th>\n",
       "      <td>Gluten-Free Zucchini Bread (or Muffins) Recipe</td>\n",
       "      <td>Got this recipe from someone else but made som...</td>\n",
       "    </tr>\n",
       "  </tbody>\n",
       "</table>\n",
       "<p>18123 rows × 2 columns</p>\n",
       "</div>"
      ],
      "text/plain": [
       "                                               Titulo  \\\n",
       "0                   Air Fryer Smashed Potatoes Recipe   \n",
       "1                        Air Fryer Quesadillas Recipe   \n",
       "2              Air Fryer Truffle Polenta Fries Recipe   \n",
       "3           Air Fryer Firecracker Salmon Bites Recipe   \n",
       "4                      Air Fryer Chicken Bites Recipe   \n",
       "...                                               ...   \n",
       "18118              Vegan Zucchini Banana Bread Recipe   \n",
       "18119                 Zucchini-Raspberry Bread Recipe   \n",
       "18120           Healthier Mom's Zucchini Bread Recipe   \n",
       "18121            Zucchini Bread, Pumpkin Style Recipe   \n",
       "18122  Gluten-Free Zucchini Bread (or Muffins) Recipe   \n",
       "\n",
       "                                             descripcion  \n",
       "0      These golden, crispy air fryer smashed potatoe...  \n",
       "1      These air fryer quesadillas are golden and cri...  \n",
       "2      These air fryer truffle polenta fries, flavore...  \n",
       "3      These air fryer firecracker salmon bites get a...  \n",
       "4      These air fryer chicken bites, seasoned with l...  \n",
       "...                                                  ...  \n",
       "18118  This yummy, moist, rich zucchini banana bread ...  \n",
       "18119  It's a simple zucchini nut bread with a splash...  \n",
       "18120  We packed even more zucchini into Mom's wonder...  \n",
       "18121  Although I love zucchini bread, I wanted a new...  \n",
       "18122  Got this recipe from someone else but made som...  \n",
       "\n",
       "[18123 rows x 2 columns]"
      ]
     },
     "execution_count": 21,
     "metadata": {},
     "output_type": "execute_result"
    }
   ],
   "source": [
    "cocina['descripcion']=descripcion\n",
    "cocina"
   ]
  },
  {
   "cell_type": "markdown",
   "metadata": {},
   "source": [
    "Llamamos a la función ingredienteReceta para obtener los ingredientes de cada receta y lo guardamos en un dataframe en la columna 'ingrediente'"
   ]
  },
  {
   "cell_type": "code",
   "execution_count": 22,
   "metadata": {},
   "outputs": [],
   "source": [
    "ingredientes = ingredienteReceta(HTMLrecetasTodas)"
   ]
  },
  {
   "cell_type": "code",
   "execution_count": 23,
   "metadata": {},
   "outputs": [
    {
     "data": {
      "text/html": [
       "<div>\n",
       "<style scoped>\n",
       "    .dataframe tbody tr th:only-of-type {\n",
       "        vertical-align: middle;\n",
       "    }\n",
       "\n",
       "    .dataframe tbody tr th {\n",
       "        vertical-align: top;\n",
       "    }\n",
       "\n",
       "    .dataframe thead th {\n",
       "        text-align: right;\n",
       "    }\n",
       "</style>\n",
       "<table border=\"1\" class=\"dataframe\">\n",
       "  <thead>\n",
       "    <tr style=\"text-align: right;\">\n",
       "      <th></th>\n",
       "      <th>Titulo</th>\n",
       "      <th>descripcion</th>\n",
       "      <th>ingredientes</th>\n",
       "    </tr>\n",
       "  </thead>\n",
       "  <tbody>\n",
       "    <tr>\n",
       "      <th>0</th>\n",
       "      <td>Air Fryer Smashed Potatoes Recipe</td>\n",
       "      <td>These golden, crispy air fryer smashed potatoe...</td>\n",
       "      <td>8 ounces baby gold potatoes\\n1 tablespoon melt...</td>\n",
       "    </tr>\n",
       "    <tr>\n",
       "      <th>1</th>\n",
       "      <td>Air Fryer Quesadillas Recipe</td>\n",
       "      <td>These air fryer quesadillas are golden and cri...</td>\n",
       "      <td>2 flour tortillas\\n1/2 cup shredded cheese\\nno...</td>\n",
       "    </tr>\n",
       "    <tr>\n",
       "      <th>2</th>\n",
       "      <td>Air Fryer Truffle Polenta Fries Recipe</td>\n",
       "      <td>These air fryer truffle polenta fries, flavore...</td>\n",
       "      <td>1 (18 ounce) tube prepared polenta\\n1 1/2 tabl...</td>\n",
       "    </tr>\n",
       "    <tr>\n",
       "      <th>3</th>\n",
       "      <td>Air Fryer Firecracker Salmon Bites Recipe</td>\n",
       "      <td>These air fryer firecracker salmon bites get a...</td>\n",
       "      <td>1/4 cup balsamic vinegar\\n1/4 cup brown sugar\\...</td>\n",
       "    </tr>\n",
       "    <tr>\n",
       "      <th>4</th>\n",
       "      <td>Air Fryer Chicken Bites Recipe</td>\n",
       "      <td>These air fryer chicken bites, seasoned with l...</td>\n",
       "      <td>1 pound skinless, boneless chicken breasts, cu...</td>\n",
       "    </tr>\n",
       "    <tr>\n",
       "      <th>...</th>\n",
       "      <td>...</td>\n",
       "      <td>...</td>\n",
       "      <td>...</td>\n",
       "    </tr>\n",
       "    <tr>\n",
       "      <th>18118</th>\n",
       "      <td>Vegan Zucchini Banana Bread Recipe</td>\n",
       "      <td>This yummy, moist, rich zucchini banana bread ...</td>\n",
       "      <td>3 cups all-purpose flour\\n1 teaspoon salt\\n1 t...</td>\n",
       "    </tr>\n",
       "    <tr>\n",
       "      <th>18119</th>\n",
       "      <td>Zucchini-Raspberry Bread Recipe</td>\n",
       "      <td>It's a simple zucchini nut bread with a splash...</td>\n",
       "      <td>1 ½ cups self-rising flour\\n1 teaspoon ground ...</td>\n",
       "    </tr>\n",
       "    <tr>\n",
       "      <th>18120</th>\n",
       "      <td>Healthier Mom's Zucchini Bread Recipe</td>\n",
       "      <td>We packed even more zucchini into Mom's wonder...</td>\n",
       "      <td>1 ½ cups all-purpose flour\\n1 ½ cups white who...</td>\n",
       "    </tr>\n",
       "    <tr>\n",
       "      <th>18121</th>\n",
       "      <td>Zucchini Bread, Pumpkin Style Recipe</td>\n",
       "      <td>Although I love zucchini bread, I wanted a new...</td>\n",
       "      <td>3 medium zucchini, cut into chunks\\n4 ¾ cups a...</td>\n",
       "    </tr>\n",
       "    <tr>\n",
       "      <th>18122</th>\n",
       "      <td>Gluten-Free Zucchini Bread (or Muffins) Recipe</td>\n",
       "      <td>Got this recipe from someone else but made som...</td>\n",
       "      <td>3 cups gluten-free flour\\n1 tablespoon ground ...</td>\n",
       "    </tr>\n",
       "  </tbody>\n",
       "</table>\n",
       "<p>18123 rows × 3 columns</p>\n",
       "</div>"
      ],
      "text/plain": [
       "                                               Titulo  \\\n",
       "0                   Air Fryer Smashed Potatoes Recipe   \n",
       "1                        Air Fryer Quesadillas Recipe   \n",
       "2              Air Fryer Truffle Polenta Fries Recipe   \n",
       "3           Air Fryer Firecracker Salmon Bites Recipe   \n",
       "4                      Air Fryer Chicken Bites Recipe   \n",
       "...                                               ...   \n",
       "18118              Vegan Zucchini Banana Bread Recipe   \n",
       "18119                 Zucchini-Raspberry Bread Recipe   \n",
       "18120           Healthier Mom's Zucchini Bread Recipe   \n",
       "18121            Zucchini Bread, Pumpkin Style Recipe   \n",
       "18122  Gluten-Free Zucchini Bread (or Muffins) Recipe   \n",
       "\n",
       "                                             descripcion  \\\n",
       "0      These golden, crispy air fryer smashed potatoe...   \n",
       "1      These air fryer quesadillas are golden and cri...   \n",
       "2      These air fryer truffle polenta fries, flavore...   \n",
       "3      These air fryer firecracker salmon bites get a...   \n",
       "4      These air fryer chicken bites, seasoned with l...   \n",
       "...                                                  ...   \n",
       "18118  This yummy, moist, rich zucchini banana bread ...   \n",
       "18119  It's a simple zucchini nut bread with a splash...   \n",
       "18120  We packed even more zucchini into Mom's wonder...   \n",
       "18121  Although I love zucchini bread, I wanted a new...   \n",
       "18122  Got this recipe from someone else but made som...   \n",
       "\n",
       "                                            ingredientes  \n",
       "0      8 ounces baby gold potatoes\\n1 tablespoon melt...  \n",
       "1      2 flour tortillas\\n1/2 cup shredded cheese\\nno...  \n",
       "2      1 (18 ounce) tube prepared polenta\\n1 1/2 tabl...  \n",
       "3      1/4 cup balsamic vinegar\\n1/4 cup brown sugar\\...  \n",
       "4      1 pound skinless, boneless chicken breasts, cu...  \n",
       "...                                                  ...  \n",
       "18118  3 cups all-purpose flour\\n1 teaspoon salt\\n1 t...  \n",
       "18119  1 ½ cups self-rising flour\\n1 teaspoon ground ...  \n",
       "18120  1 ½ cups all-purpose flour\\n1 ½ cups white who...  \n",
       "18121  3 medium zucchini, cut into chunks\\n4 ¾ cups a...  \n",
       "18122  3 cups gluten-free flour\\n1 tablespoon ground ...  \n",
       "\n",
       "[18123 rows x 3 columns]"
      ]
     },
     "execution_count": 23,
     "metadata": {},
     "output_type": "execute_result"
    }
   ],
   "source": [
    "cocina['ingredientes']=ingredientes\n",
    "cocina"
   ]
  },
  {
   "cell_type": "markdown",
   "metadata": {},
   "source": [
    "Llamamos a la función pasosReceta, para obtener los pasos de cada receta y lo guardamos en un dataframe en la columna 'Pasos'"
   ]
  },
  {
   "cell_type": "code",
   "execution_count": 24,
   "metadata": {},
   "outputs": [],
   "source": [
    "pasos = pasosReceta(HTMLrecetasTodas)"
   ]
  },
  {
   "cell_type": "code",
   "execution_count": 25,
   "metadata": {},
   "outputs": [
    {
     "data": {
      "text/html": [
       "<div>\n",
       "<style scoped>\n",
       "    .dataframe tbody tr th:only-of-type {\n",
       "        vertical-align: middle;\n",
       "    }\n",
       "\n",
       "    .dataframe tbody tr th {\n",
       "        vertical-align: top;\n",
       "    }\n",
       "\n",
       "    .dataframe thead th {\n",
       "        text-align: right;\n",
       "    }\n",
       "</style>\n",
       "<table border=\"1\" class=\"dataframe\">\n",
       "  <thead>\n",
       "    <tr style=\"text-align: right;\">\n",
       "      <th></th>\n",
       "      <th>Titulo</th>\n",
       "      <th>descripcion</th>\n",
       "      <th>ingredientes</th>\n",
       "      <th>Pasos</th>\n",
       "    </tr>\n",
       "  </thead>\n",
       "  <tbody>\n",
       "    <tr>\n",
       "      <th>0</th>\n",
       "      <td>Air Fryer Smashed Potatoes Recipe</td>\n",
       "      <td>These golden, crispy air fryer smashed potatoe...</td>\n",
       "      <td>8 ounces baby gold potatoes\\n1 tablespoon melt...</td>\n",
       "      <td>Preheat an air fryer to 400 degrees F (200 deg...</td>\n",
       "    </tr>\n",
       "    <tr>\n",
       "      <th>1</th>\n",
       "      <td>Air Fryer Quesadillas Recipe</td>\n",
       "      <td>These air fryer quesadillas are golden and cri...</td>\n",
       "      <td>2 flour tortillas\\n1/2 cup shredded cheese\\nno...</td>\n",
       "      <td>Heat tortillas in the microwave until pliable,...</td>\n",
       "    </tr>\n",
       "    <tr>\n",
       "      <th>2</th>\n",
       "      <td>Air Fryer Truffle Polenta Fries Recipe</td>\n",
       "      <td>These air fryer truffle polenta fries, flavore...</td>\n",
       "      <td>1 (18 ounce) tube prepared polenta\\n1 1/2 tabl...</td>\n",
       "      <td>Preheat an air fryer to 400 degrees F (200 deg...</td>\n",
       "    </tr>\n",
       "    <tr>\n",
       "      <th>3</th>\n",
       "      <td>Air Fryer Firecracker Salmon Bites Recipe</td>\n",
       "      <td>These air fryer firecracker salmon bites get a...</td>\n",
       "      <td>1/4 cup balsamic vinegar\\n1/4 cup brown sugar\\...</td>\n",
       "      <td>Combine balsamic vinegar, brown sugar, oil, so...</td>\n",
       "    </tr>\n",
       "    <tr>\n",
       "      <th>4</th>\n",
       "      <td>Air Fryer Chicken Bites Recipe</td>\n",
       "      <td>These air fryer chicken bites, seasoned with l...</td>\n",
       "      <td>1 pound skinless, boneless chicken breasts, cu...</td>\n",
       "      <td>Preheat an air fryer to 350 degrees F (175 deg...</td>\n",
       "    </tr>\n",
       "    <tr>\n",
       "      <th>...</th>\n",
       "      <td>...</td>\n",
       "      <td>...</td>\n",
       "      <td>...</td>\n",
       "      <td>...</td>\n",
       "    </tr>\n",
       "    <tr>\n",
       "      <th>18118</th>\n",
       "      <td>Vegan Zucchini Banana Bread Recipe</td>\n",
       "      <td>This yummy, moist, rich zucchini banana bread ...</td>\n",
       "      <td>3 cups all-purpose flour\\n1 teaspoon salt\\n1 t...</td>\n",
       "      <td>Preheat the oven to 325 degrees F (165 degrees...</td>\n",
       "    </tr>\n",
       "    <tr>\n",
       "      <th>18119</th>\n",
       "      <td>Zucchini-Raspberry Bread Recipe</td>\n",
       "      <td>It's a simple zucchini nut bread with a splash...</td>\n",
       "      <td>1 ½ cups self-rising flour\\n1 teaspoon ground ...</td>\n",
       "      <td>Preheat an oven to 350 degrees F (175 degrees ...</td>\n",
       "    </tr>\n",
       "    <tr>\n",
       "      <th>18120</th>\n",
       "      <td>Healthier Mom's Zucchini Bread Recipe</td>\n",
       "      <td>We packed even more zucchini into Mom's wonder...</td>\n",
       "      <td>1 ½ cups all-purpose flour\\n1 ½ cups white who...</td>\n",
       "      <td>Preheat oven to 325 degrees F (165 degrees C)....</td>\n",
       "    </tr>\n",
       "    <tr>\n",
       "      <th>18121</th>\n",
       "      <td>Zucchini Bread, Pumpkin Style Recipe</td>\n",
       "      <td>Although I love zucchini bread, I wanted a new...</td>\n",
       "      <td>3 medium zucchini, cut into chunks\\n4 ¾ cups a...</td>\n",
       "      <td>Preheat an oven to 350 degrees F (175 degrees ...</td>\n",
       "    </tr>\n",
       "    <tr>\n",
       "      <th>18122</th>\n",
       "      <td>Gluten-Free Zucchini Bread (or Muffins) Recipe</td>\n",
       "      <td>Got this recipe from someone else but made som...</td>\n",
       "      <td>3 cups gluten-free flour\\n1 tablespoon ground ...</td>\n",
       "      <td>Preheat oven to 325 degrees F (165 degrees C)....</td>\n",
       "    </tr>\n",
       "  </tbody>\n",
       "</table>\n",
       "<p>18123 rows × 4 columns</p>\n",
       "</div>"
      ],
      "text/plain": [
       "                                               Titulo  \\\n",
       "0                   Air Fryer Smashed Potatoes Recipe   \n",
       "1                        Air Fryer Quesadillas Recipe   \n",
       "2              Air Fryer Truffle Polenta Fries Recipe   \n",
       "3           Air Fryer Firecracker Salmon Bites Recipe   \n",
       "4                      Air Fryer Chicken Bites Recipe   \n",
       "...                                               ...   \n",
       "18118              Vegan Zucchini Banana Bread Recipe   \n",
       "18119                 Zucchini-Raspberry Bread Recipe   \n",
       "18120           Healthier Mom's Zucchini Bread Recipe   \n",
       "18121            Zucchini Bread, Pumpkin Style Recipe   \n",
       "18122  Gluten-Free Zucchini Bread (or Muffins) Recipe   \n",
       "\n",
       "                                             descripcion  \\\n",
       "0      These golden, crispy air fryer smashed potatoe...   \n",
       "1      These air fryer quesadillas are golden and cri...   \n",
       "2      These air fryer truffle polenta fries, flavore...   \n",
       "3      These air fryer firecracker salmon bites get a...   \n",
       "4      These air fryer chicken bites, seasoned with l...   \n",
       "...                                                  ...   \n",
       "18118  This yummy, moist, rich zucchini banana bread ...   \n",
       "18119  It's a simple zucchini nut bread with a splash...   \n",
       "18120  We packed even more zucchini into Mom's wonder...   \n",
       "18121  Although I love zucchini bread, I wanted a new...   \n",
       "18122  Got this recipe from someone else but made som...   \n",
       "\n",
       "                                            ingredientes  \\\n",
       "0      8 ounces baby gold potatoes\\n1 tablespoon melt...   \n",
       "1      2 flour tortillas\\n1/2 cup shredded cheese\\nno...   \n",
       "2      1 (18 ounce) tube prepared polenta\\n1 1/2 tabl...   \n",
       "3      1/4 cup balsamic vinegar\\n1/4 cup brown sugar\\...   \n",
       "4      1 pound skinless, boneless chicken breasts, cu...   \n",
       "...                                                  ...   \n",
       "18118  3 cups all-purpose flour\\n1 teaspoon salt\\n1 t...   \n",
       "18119  1 ½ cups self-rising flour\\n1 teaspoon ground ...   \n",
       "18120  1 ½ cups all-purpose flour\\n1 ½ cups white who...   \n",
       "18121  3 medium zucchini, cut into chunks\\n4 ¾ cups a...   \n",
       "18122  3 cups gluten-free flour\\n1 tablespoon ground ...   \n",
       "\n",
       "                                                   Pasos  \n",
       "0      Preheat an air fryer to 400 degrees F (200 deg...  \n",
       "1      Heat tortillas in the microwave until pliable,...  \n",
       "2      Preheat an air fryer to 400 degrees F (200 deg...  \n",
       "3      Combine balsamic vinegar, brown sugar, oil, so...  \n",
       "4      Preheat an air fryer to 350 degrees F (175 deg...  \n",
       "...                                                  ...  \n",
       "18118  Preheat the oven to 325 degrees F (165 degrees...  \n",
       "18119  Preheat an oven to 350 degrees F (175 degrees ...  \n",
       "18120  Preheat oven to 325 degrees F (165 degrees C)....  \n",
       "18121  Preheat an oven to 350 degrees F (175 degrees ...  \n",
       "18122  Preheat oven to 325 degrees F (165 degrees C)....  \n",
       "\n",
       "[18123 rows x 4 columns]"
      ]
     },
     "execution_count": 25,
     "metadata": {},
     "output_type": "execute_result"
    }
   ],
   "source": [
    "cocina['Pasos']=pasos\n",
    "cocina"
   ]
  },
  {
   "cell_type": "markdown",
   "metadata": {},
   "source": [
    "Eliminamos las filas que tengan valores nulos"
   ]
  },
  {
   "cell_type": "code",
   "execution_count": 31,
   "metadata": {},
   "outputs": [
    {
     "data": {
      "text/html": [
       "<div>\n",
       "<style scoped>\n",
       "    .dataframe tbody tr th:only-of-type {\n",
       "        vertical-align: middle;\n",
       "    }\n",
       "\n",
       "    .dataframe tbody tr th {\n",
       "        vertical-align: top;\n",
       "    }\n",
       "\n",
       "    .dataframe thead th {\n",
       "        text-align: right;\n",
       "    }\n",
       "</style>\n",
       "<table border=\"1\" class=\"dataframe\">\n",
       "  <thead>\n",
       "    <tr style=\"text-align: right;\">\n",
       "      <th></th>\n",
       "      <th>Titulo</th>\n",
       "      <th>descripcion</th>\n",
       "      <th>ingredientes</th>\n",
       "      <th>Pasos</th>\n",
       "    </tr>\n",
       "  </thead>\n",
       "  <tbody>\n",
       "    <tr>\n",
       "      <th>0</th>\n",
       "      <td>Air Fryer Smashed Potatoes Recipe</td>\n",
       "      <td>These golden, crispy air fryer smashed potatoe...</td>\n",
       "      <td>8 ounces baby gold potatoes\\n1 tablespoon melt...</td>\n",
       "      <td>Preheat an air fryer to 400 degrees F (200 deg...</td>\n",
       "    </tr>\n",
       "    <tr>\n",
       "      <th>1</th>\n",
       "      <td>Air Fryer Quesadillas Recipe</td>\n",
       "      <td>These air fryer quesadillas are golden and cri...</td>\n",
       "      <td>2 flour tortillas\\n1/2 cup shredded cheese\\nno...</td>\n",
       "      <td>Heat tortillas in the microwave until pliable,...</td>\n",
       "    </tr>\n",
       "    <tr>\n",
       "      <th>2</th>\n",
       "      <td>Air Fryer Truffle Polenta Fries Recipe</td>\n",
       "      <td>These air fryer truffle polenta fries, flavore...</td>\n",
       "      <td>1 (18 ounce) tube prepared polenta\\n1 1/2 tabl...</td>\n",
       "      <td>Preheat an air fryer to 400 degrees F (200 deg...</td>\n",
       "    </tr>\n",
       "    <tr>\n",
       "      <th>3</th>\n",
       "      <td>Air Fryer Firecracker Salmon Bites Recipe</td>\n",
       "      <td>These air fryer firecracker salmon bites get a...</td>\n",
       "      <td>1/4 cup balsamic vinegar\\n1/4 cup brown sugar\\...</td>\n",
       "      <td>Combine balsamic vinegar, brown sugar, oil, so...</td>\n",
       "    </tr>\n",
       "    <tr>\n",
       "      <th>4</th>\n",
       "      <td>Air Fryer Chicken Bites Recipe</td>\n",
       "      <td>These air fryer chicken bites, seasoned with l...</td>\n",
       "      <td>1 pound skinless, boneless chicken breasts, cu...</td>\n",
       "      <td>Preheat an air fryer to 350 degrees F (175 deg...</td>\n",
       "    </tr>\n",
       "    <tr>\n",
       "      <th>...</th>\n",
       "      <td>...</td>\n",
       "      <td>...</td>\n",
       "      <td>...</td>\n",
       "      <td>...</td>\n",
       "    </tr>\n",
       "    <tr>\n",
       "      <th>18118</th>\n",
       "      <td>Vegan Zucchini Banana Bread Recipe</td>\n",
       "      <td>This yummy, moist, rich zucchini banana bread ...</td>\n",
       "      <td>3 cups all-purpose flour\\n1 teaspoon salt\\n1 t...</td>\n",
       "      <td>Preheat the oven to 325 degrees F (165 degrees...</td>\n",
       "    </tr>\n",
       "    <tr>\n",
       "      <th>18119</th>\n",
       "      <td>Zucchini-Raspberry Bread Recipe</td>\n",
       "      <td>It's a simple zucchini nut bread with a splash...</td>\n",
       "      <td>1 ½ cups self-rising flour\\n1 teaspoon ground ...</td>\n",
       "      <td>Preheat an oven to 350 degrees F (175 degrees ...</td>\n",
       "    </tr>\n",
       "    <tr>\n",
       "      <th>18120</th>\n",
       "      <td>Healthier Mom's Zucchini Bread Recipe</td>\n",
       "      <td>We packed even more zucchini into Mom's wonder...</td>\n",
       "      <td>1 ½ cups all-purpose flour\\n1 ½ cups white who...</td>\n",
       "      <td>Preheat oven to 325 degrees F (165 degrees C)....</td>\n",
       "    </tr>\n",
       "    <tr>\n",
       "      <th>18121</th>\n",
       "      <td>Zucchini Bread, Pumpkin Style Recipe</td>\n",
       "      <td>Although I love zucchini bread, I wanted a new...</td>\n",
       "      <td>3 medium zucchini, cut into chunks\\n4 ¾ cups a...</td>\n",
       "      <td>Preheat an oven to 350 degrees F (175 degrees ...</td>\n",
       "    </tr>\n",
       "    <tr>\n",
       "      <th>18122</th>\n",
       "      <td>Gluten-Free Zucchini Bread (or Muffins) Recipe</td>\n",
       "      <td>Got this recipe from someone else but made som...</td>\n",
       "      <td>3 cups gluten-free flour\\n1 tablespoon ground ...</td>\n",
       "      <td>Preheat oven to 325 degrees F (165 degrees C)....</td>\n",
       "    </tr>\n",
       "  </tbody>\n",
       "</table>\n",
       "<p>17811 rows × 4 columns</p>\n",
       "</div>"
      ],
      "text/plain": [
       "                                               Titulo  \\\n",
       "0                   Air Fryer Smashed Potatoes Recipe   \n",
       "1                        Air Fryer Quesadillas Recipe   \n",
       "2              Air Fryer Truffle Polenta Fries Recipe   \n",
       "3           Air Fryer Firecracker Salmon Bites Recipe   \n",
       "4                      Air Fryer Chicken Bites Recipe   \n",
       "...                                               ...   \n",
       "18118              Vegan Zucchini Banana Bread Recipe   \n",
       "18119                 Zucchini-Raspberry Bread Recipe   \n",
       "18120           Healthier Mom's Zucchini Bread Recipe   \n",
       "18121            Zucchini Bread, Pumpkin Style Recipe   \n",
       "18122  Gluten-Free Zucchini Bread (or Muffins) Recipe   \n",
       "\n",
       "                                             descripcion  \\\n",
       "0      These golden, crispy air fryer smashed potatoe...   \n",
       "1      These air fryer quesadillas are golden and cri...   \n",
       "2      These air fryer truffle polenta fries, flavore...   \n",
       "3      These air fryer firecracker salmon bites get a...   \n",
       "4      These air fryer chicken bites, seasoned with l...   \n",
       "...                                                  ...   \n",
       "18118  This yummy, moist, rich zucchini banana bread ...   \n",
       "18119  It's a simple zucchini nut bread with a splash...   \n",
       "18120  We packed even more zucchini into Mom's wonder...   \n",
       "18121  Although I love zucchini bread, I wanted a new...   \n",
       "18122  Got this recipe from someone else but made som...   \n",
       "\n",
       "                                            ingredientes  \\\n",
       "0      8 ounces baby gold potatoes\\n1 tablespoon melt...   \n",
       "1      2 flour tortillas\\n1/2 cup shredded cheese\\nno...   \n",
       "2      1 (18 ounce) tube prepared polenta\\n1 1/2 tabl...   \n",
       "3      1/4 cup balsamic vinegar\\n1/4 cup brown sugar\\...   \n",
       "4      1 pound skinless, boneless chicken breasts, cu...   \n",
       "...                                                  ...   \n",
       "18118  3 cups all-purpose flour\\n1 teaspoon salt\\n1 t...   \n",
       "18119  1 ½ cups self-rising flour\\n1 teaspoon ground ...   \n",
       "18120  1 ½ cups all-purpose flour\\n1 ½ cups white who...   \n",
       "18121  3 medium zucchini, cut into chunks\\n4 ¾ cups a...   \n",
       "18122  3 cups gluten-free flour\\n1 tablespoon ground ...   \n",
       "\n",
       "                                                   Pasos  \n",
       "0      Preheat an air fryer to 400 degrees F (200 deg...  \n",
       "1      Heat tortillas in the microwave until pliable,...  \n",
       "2      Preheat an air fryer to 400 degrees F (200 deg...  \n",
       "3      Combine balsamic vinegar, brown sugar, oil, so...  \n",
       "4      Preheat an air fryer to 350 degrees F (175 deg...  \n",
       "...                                                  ...  \n",
       "18118  Preheat the oven to 325 degrees F (165 degrees...  \n",
       "18119  Preheat an oven to 350 degrees F (175 degrees ...  \n",
       "18120  Preheat oven to 325 degrees F (165 degrees C)....  \n",
       "18121  Preheat an oven to 350 degrees F (175 degrees ...  \n",
       "18122  Preheat oven to 325 degrees F (165 degrees C)....  \n",
       "\n",
       "[17811 rows x 4 columns]"
      ]
     },
     "execution_count": 31,
     "metadata": {},
     "output_type": "execute_result"
    }
   ],
   "source": [
    "cocina = cocina.dropna()\n",
    "cocina"
   ]
  },
  {
   "cell_type": "markdown",
   "metadata": {},
   "source": [
    "Guardamos en un CSV y un xlsx, el dataframe obtenido"
   ]
  },
  {
   "cell_type": "code",
   "execution_count": 32,
   "metadata": {},
   "outputs": [],
   "source": [
    "# Guardar el DataFrame en un archivo CSV\n",
    "cocina.to_csv('Deber12_Recetas.csv', index=True)"
   ]
  },
  {
   "cell_type": "code",
   "execution_count": 33,
   "metadata": {},
   "outputs": [],
   "source": [
    "cocina.to_excel('Deber12_Recetas.xlsx', index=False)"
   ]
  }
 ],
 "metadata": {
  "kernelspec": {
   "display_name": "Python 3",
   "language": "python",
   "name": "python3"
  },
  "language_info": {
   "codemirror_mode": {
    "name": "ipython",
    "version": 3
   },
   "file_extension": ".py",
   "mimetype": "text/x-python",
   "name": "python",
   "nbconvert_exporter": "python",
   "pygments_lexer": "ipython3",
   "version": "3.12.4"
  }
 },
 "nbformat": 4,
 "nbformat_minor": 2
}
